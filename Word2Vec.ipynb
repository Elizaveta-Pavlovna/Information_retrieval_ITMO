{
 "cells": [
  {
   "cell_type": "markdown",
   "id": "6b5fec86",
   "metadata": {},
   "source": [
    "# Подготовка датасета"
   ]
  },
  {
   "cell_type": "code",
   "execution_count": 133,
   "id": "3b254c6e",
   "metadata": {},
   "outputs": [],
   "source": [
    "# Подключаем библиотеки\n",
    "\n",
    "# Для парсинга файла html\n",
    "from bs4 import BeautifulSoup \n",
    "import re\n",
    "import os\n",
    "import fnmatch\n",
    "import numpy as np\n",
    "\n",
    "# Создаем список, элементы которого будут представлять текст статьи на опредленную тему. \n",
    "collection = []\n",
    "\n",
    "# Всего областей 5: a) биология, b) информационные технологии, c) история, d) менеджмент, \n",
    "# e) архитектура и строительство\n",
    "# Создадим список, в котором каждому номеру документа соответствует область\n",
    "field = []\n",
    "\n",
    "\n",
    "# Читаем все файлы из папки dataset\n",
    "for filename in os.listdir(\"dataset\"):\n",
    "    with open(os.path.join(\"dataset\", filename), \"rb\") as f:\n",
    "        contents = f.read().decode(errors='replace')\n",
    "        soup = BeautifulSoup(contents, 'html.parser')\n",
    "        \n",
    "        a = soup.find_all('p', style = re.compile(\"[\\D+]?text-align: justify;\"))\n",
    "        s = ''\n",
    "        \n",
    "        for i in range(len(a)):\n",
    "        \n",
    "# Некоторые атрибуты в файле имели пустые значения и при записи почему-то записывались как \\xa0, поэтому\n",
    "# пришлось проводить проверку на то, чтобы a[i].text != '\\xa0' и только потом записывать в общую строку\n",
    "            if a[i].text != '\\xa0':\n",
    "                s += ' ' + re.sub('[a-zA-Z0-9%-.,:—;\"!№/\\[\\]\\\\\\'?»«–’”“℃]','',a[i].text.lower())\n",
    "         \n",
    "    \n",
    "# При парсинге не получалось удалить некоторые объекты, пришлось ручками.\n",
    "    s = s.replace('\\u200b','')\n",
    "    s = s.replace('\\xad', '')\n",
    "    s = s.replace('\\xa0', '')\n",
    "    collection.append(s)\n",
    "    \n",
    "    if fnmatch.fnmatch(filename, 'a*.html'):\n",
    "        field.append('Биология')\n",
    "    elif fnmatch.fnmatch(filename, 'b*.html'):\n",
    "        field.append('Информационные технологии')\n",
    "    elif fnmatch.fnmatch(filename, 'c*.html'):\n",
    "        field.append('История')\n",
    "    elif fnmatch.fnmatch(filename, 'd*.html'):\n",
    "        field.append('Менеджмент')\n",
    "    elif fnmatch.fnmatch(filename, 'e*.html'):\n",
    "        field.append('Архитектура')\n",
    "    else: field.append('1')\n",
    "    \n",
    "collection.remove(collection[14])\n",
    "\n",
    "for i in range(len(field)-1):\n",
    "    if field[i] == '1':\n",
    "        field.remove(field[i])\n",
    "\n",
    "# field\n",
    "\n",
    "# Мощность датасета и пример одного элемента \n",
    "# print(len(collection))\n",
    "# print(collection[108])"
   ]
  },
  {
   "cell_type": "code",
   "execution_count": 134,
   "id": "d2ae510f",
   "metadata": {},
   "outputs": [],
   "source": [
    "collection_split = [collection[i].split() for i in range(len(collection))]\n",
    "\n",
    "data = []\n",
    "for i in range(len(collection_split)):\n",
    "    data.append(list(filter(lambda x: len(x) > 4, collection_split[i])))\n",
    "# data[108]"
   ]
  },
  {
   "cell_type": "code",
   "execution_count": 135,
   "id": "f7eb3dbe",
   "metadata": {},
   "outputs": [],
   "source": [
    "# Напишем функцию для лемматизации текста и выведем коллекцию статей снова\n",
    "\n",
    "import pymorphy2\n",
    "\n",
    "morph = pymorphy2.MorphAnalyzer()\n",
    "\n",
    "def lemmat(data):\n",
    "    res_data = []\n",
    "    for words in data:\n",
    "        res_line = []\n",
    "        for word in words:\n",
    "            res_line.append(morph.parse(word)[0].normal_form)\n",
    "        res_data.append(' '.join(res_line)) \n",
    "    return res_data\n",
    "\n",
    "collection = lemmat(data)"
   ]
  },
  {
   "cell_type": "code",
   "execution_count": 136,
   "id": "8c3d9e92",
   "metadata": {},
   "outputs": [],
   "source": [
    "data = [collection[i].split() for i in range(len(collection))] \n",
    "# data"
   ]
  },
  {
   "cell_type": "markdown",
   "id": "281ab461",
   "metadata": {},
   "source": [
    "# Построение модели"
   ]
  },
  {
   "cell_type": "code",
   "execution_count": 137,
   "id": "0e468715",
   "metadata": {},
   "outputs": [],
   "source": [
    "# !pip install -U gensim"
   ]
  },
  {
   "cell_type": "code",
   "execution_count": 138,
   "id": "2fdf4df0",
   "metadata": {},
   "outputs": [],
   "source": [
    "from gensim.models import Word2Vec"
   ]
  },
  {
   "cell_type": "code",
   "execution_count": 139,
   "id": "5dcd1d20",
   "metadata": {},
   "outputs": [],
   "source": [
    "word2vec = Word2Vec(data, min_count = 1)"
   ]
  },
  {
   "cell_type": "code",
   "execution_count": 140,
   "id": "9124d686",
   "metadata": {},
   "outputs": [
    {
     "data": {
      "text/plain": [
       "8463"
      ]
     },
     "execution_count": 140,
     "metadata": {},
     "output_type": "execute_result"
    }
   ],
   "source": [
    "# Список всех уникальных слов\n",
    "\n",
    "vocabulary = word2vec.wv.key_to_index\n",
    "# print(vocabulary)\n",
    "len(vocabulary)"
   ]
  },
  {
   "cell_type": "code",
   "execution_count": 141,
   "id": "750eb641",
   "metadata": {},
   "outputs": [],
   "source": [
    "# Пример вектора для слова\n",
    "# word2vec.wv['реформа']"
   ]
  },
  {
   "cell_type": "code",
   "execution_count": 142,
   "id": "6bbe7bdf",
   "metadata": {},
   "outputs": [],
   "source": [
    "# Просто решила посмотреть, как модель определяет сходие по значению слова :)\n",
    "# word2vec.wv.most_similar('урбанизм')"
   ]
  },
  {
   "cell_type": "code",
   "execution_count": 143,
   "id": "eca23227",
   "metadata": {},
   "outputs": [],
   "source": [
    "# Теперь векторизуем каждый документ. Усредним оценки для всех слов в предложении\n",
    "\n",
    "def vec_w2v(model, text):\n",
    "    sum_ = 0\n",
    "    for j in range(len(text)):\n",
    "        sum_ += model.wv[text[j]]\n",
    "    return sum_ / len(text)"
   ]
  },
  {
   "cell_type": "code",
   "execution_count": 144,
   "id": "e850ac33",
   "metadata": {},
   "outputs": [],
   "source": [
    "# vec_w2v(data[1])"
   ]
  },
  {
   "cell_type": "markdown",
   "id": "0db6c75f",
   "metadata": {},
   "source": [
    "# Близость документов"
   ]
  },
  {
   "cell_type": "code",
   "execution_count": 145,
   "id": "71dcc5c1",
   "metadata": {},
   "outputs": [],
   "source": [
    "# Напишем функцию, высчитывающую косинусное расстояние\n",
    "\n",
    "def cos(vec1, vec2):\n",
    "    vec1 = np.array(vec1)\n",
    "    vec2 = np.array(vec2)\n",
    "    return np.dot(vec1, vec2) / np.linalg.norm(vec1) / np.linalg.norm(vec2)"
   ]
  },
  {
   "cell_type": "markdown",
   "id": "ab233b78",
   "metadata": {},
   "source": [
    "# Пример 1"
   ]
  },
  {
   "cell_type": "code",
   "execution_count": 146,
   "id": "980aaf8a",
   "metadata": {},
   "outputs": [
    {
     "data": {
      "text/plain": [
       "['программный', 'обеспечение']"
      ]
     },
     "execution_count": 146,
     "metadata": {},
     "output_type": "execute_result"
    }
   ],
   "source": [
    "# Введем запрос, преобразуем его и подготовим список слов запроса\n",
    "\n",
    "search = 'Программное обеспечение'\n",
    "search = lemmat([search.lower().split()])[0].split()\n",
    "search"
   ]
  },
  {
   "cell_type": "code",
   "execution_count": 147,
   "id": "35158ab0",
   "metadata": {},
   "outputs": [],
   "source": [
    "vec_search = vec_w2v(word2vec, search)\n",
    "# vec_search"
   ]
  },
  {
   "cell_type": "code",
   "execution_count": 148,
   "id": "64fb6662",
   "metadata": {},
   "outputs": [],
   "source": [
    "# Построим список косинусного расстояния между вектором запроса и векторами статей\n",
    "\n",
    "scalar = {}\n",
    "for i in range(len(data)):\n",
    "    scalar[i] = cos(vec_w2v(word2vec, data[i]), vec_search)\n",
    "\n",
    "# scalar"
   ]
  },
  {
   "cell_type": "code",
   "execution_count": 149,
   "id": "12633627",
   "metadata": {},
   "outputs": [
    {
     "name": "stdout",
     "output_type": "stream",
     "text": [
      "101 : 0.9995487\n",
      "33 : 0.9995477\n",
      "6 : 0.9995477\n",
      "29 : 0.9995469\n",
      "9 : 0.9995469\n",
      "1 : 0.99954635\n",
      "5 : 0.9995456\n",
      "7 : 0.99954545\n",
      "19 : 0.9995419\n",
      "69 : 0.9995368\n",
      "23 : 0.9995357\n",
      "4 : 0.9995357\n",
      "56 : 0.9995352\n",
      "17 : 0.99953496\n",
      "31 : 0.99953467\n",
      "38 : 0.9995324\n",
      "27 : 0.9995316\n",
      "86 : 0.9995315\n",
      "89 : 0.99953127\n",
      "97 : 0.9995311\n",
      "94 : 0.99953085\n",
      "68 : 0.99953085\n",
      "62 : 0.99953085\n",
      "99 : 0.9995305\n",
      "3 : 0.9995277\n",
      "57 : 0.9995275\n",
      "0 : 0.99952734\n",
      "34 : 0.9995258\n",
      "16 : 0.9995258\n",
      "58 : 0.9995254\n",
      "10 : 0.99952483\n",
      "42 : 0.9995237\n",
      "18 : 0.9995237\n",
      "78 : 0.9995232\n",
      "13 : 0.999523\n",
      "83 : 0.9995227\n",
      "32 : 0.99952215\n",
      "84 : 0.9995211\n",
      "75 : 0.99952096\n",
      "102 : 0.9995207\n",
      "95 : 0.99952066\n",
      "46 : 0.99951994\n",
      "37 : 0.9995199\n",
      "12 : 0.9995199\n",
      "76 : 0.9995188\n",
      "43 : 0.99951875\n",
      "14 : 0.9995167\n",
      "20 : 0.99951583\n",
      "91 : 0.9995158\n",
      "106 : 0.9995153\n",
      "35 : 0.99951524\n",
      "103 : 0.9995148\n",
      "77 : 0.9995145\n",
      "52 : 0.9995145\n",
      "45 : 0.99951446\n",
      "63 : 0.99951345\n",
      "104 : 0.99951315\n",
      "98 : 0.9995131\n",
      "48 : 0.9995124\n",
      "79 : 0.9995122\n",
      "47 : 0.999511\n",
      "88 : 0.9995099\n",
      "108 : 0.99950904\n",
      "71 : 0.99950904\n",
      "80 : 0.99950796\n",
      "55 : 0.99950796\n",
      "66 : 0.99950784\n",
      "26 : 0.9995073\n",
      "72 : 0.99950683\n",
      "25 : 0.99950665\n",
      "51 : 0.99950594\n",
      "59 : 0.99950546\n",
      "22 : 0.9995049\n",
      "53 : 0.9995038\n",
      "2 : 0.9995038\n",
      "100 : 0.99950284\n",
      "92 : 0.9995028\n",
      "67 : 0.9995024\n",
      "90 : 0.99950075\n",
      "41 : 0.9995005\n",
      "87 : 0.9995\n",
      "24 : 0.99949944\n",
      "85 : 0.9994984\n",
      "60 : 0.99949783\n",
      "54 : 0.99949694\n",
      "107 : 0.9994963\n",
      "93 : 0.9994963\n",
      "40 : 0.9994959\n",
      "11 : 0.99949586\n",
      "74 : 0.9994944\n",
      "61 : 0.99949384\n",
      "82 : 0.99949276\n",
      "44 : 0.99949265\n",
      "30 : 0.9994888\n",
      "65 : 0.9994881\n",
      "8 : 0.9994878\n",
      "15 : 0.9994862\n",
      "50 : 0.9994857\n",
      "49 : 0.99948514\n",
      "96 : 0.9994839\n",
      "36 : 0.99948376\n",
      "81 : 0.999482\n",
      "105 : 0.99948096\n",
      "39 : 0.9994789\n",
      "70 : 0.9994775\n",
      "64 : 0.99947554\n",
      "73 : 0.9994594\n",
      "28 : 0.99945647\n",
      "21 : 0.99945295\n"
     ]
    }
   ],
   "source": [
    "# Создание словаря с номерами статей и соответствующими косинусными расстояниями. \n",
    "# Словарь сортируется по возрастанию косинусного расстояния. А выводит в обратном порядке, для наглядности.\n",
    "\n",
    "rang_index = {}\n",
    "\n",
    "for i in range(len(scalar)):\n",
    "    rang_index[i] = scalar[i]\n",
    "\n",
    "list_rang_index = list(rang_index.items())\n",
    "list_rang_index.sort(key = lambda i: i[1])\n",
    "\n",
    "for index in reversed(list_rang_index):\n",
    "    print(index[0], ':', index[1])"
   ]
  },
  {
   "cell_type": "code",
   "execution_count": 150,
   "id": "41351959",
   "metadata": {},
   "outputs": [
    {
     "name": "stdout",
     "output_type": "stream",
     "text": [
      "Информационные технологии\n",
      "\n",
      "\n",
      "Информационные технологии\n",
      "\n",
      "\n",
      "Информационные технологии\n",
      "\n",
      "\n",
      "Информационные технологии\n",
      "\n",
      "\n",
      "Информационные технологии\n",
      "\n",
      "\n",
      "Менеджмент\n",
      "\n",
      "\n",
      "Информационные технологии\n",
      "\n",
      "\n",
      "Биология\n",
      "\n",
      "\n",
      "Менеджмент\n",
      "\n",
      "\n",
      "Информационные технологии\n",
      "\n",
      "\n"
     ]
    }
   ],
   "source": [
    "# Выведем первые 10 подходящих статей. Я вывожу области, из которых взяты статьи, чтобы предварительно показать\n",
    "# качество работы модели. Вывод самих статей закомментирован. Чтобы посмотреть - раскомментируйте 7ю строку.\n",
    "\n",
    "for index in reversed(list_rang_index[-10:]):\n",
    "        print(field[index[0]])\n",
    "#         print(collection[index[0]])\n",
    "#         print('\\n')"
   ]
  },
  {
   "cell_type": "markdown",
   "id": "eebf70db",
   "metadata": {},
   "source": [
    "# Пример 2"
   ]
  },
  {
   "cell_type": "markdown",
   "id": "31bc0aba",
   "metadata": {},
   "source": [
    "Вариант, в случае, если в запросе присутствует слово, которое модель не знает"
   ]
  },
  {
   "cell_type": "code",
   "execution_count": 151,
   "id": "16dec63f",
   "metadata": {},
   "outputs": [
    {
     "data": {
      "text/plain": [
       "['вид', 'покрытосеменной', 'растение']"
      ]
     },
     "execution_count": 151,
     "metadata": {},
     "output_type": "execute_result"
    }
   ],
   "source": [
    "# Введем запрос и преобразуем его\n",
    "search2 = 'Виды покрытосеменных растений'\n",
    "search2 = lemmat([search2.lower().split()])[0].split()\n",
    "search2"
   ]
  },
  {
   "cell_type": "code",
   "execution_count": 152,
   "id": "6fe338e6",
   "metadata": {},
   "outputs": [],
   "source": [
    "data.append(search2)"
   ]
  },
  {
   "cell_type": "code",
   "execution_count": 153,
   "id": "6041d953",
   "metadata": {},
   "outputs": [],
   "source": [
    "# data[-2:]"
   ]
  },
  {
   "cell_type": "code",
   "execution_count": 154,
   "id": "e80a03b1",
   "metadata": {},
   "outputs": [],
   "source": [
    "new_word2vec = Word2Vec(data, min_count = 1)"
   ]
  },
  {
   "cell_type": "code",
   "execution_count": 155,
   "id": "522407ac",
   "metadata": {},
   "outputs": [],
   "source": [
    "vec_search2 = vec_w2v(new_word2vec, search2)\n",
    "# vec_search"
   ]
  },
  {
   "cell_type": "code",
   "execution_count": 156,
   "id": "653b92a6",
   "metadata": {},
   "outputs": [],
   "source": [
    "# Построим список косинусного расстояния между вектором запроса и векторами статей\n",
    "\n",
    "scalar = []\n",
    "for i in range(len(data)):\n",
    "    scalar.append(cos(vec_w2v(new_word2vec, data[i]), vec_search2))\n",
    "\n",
    "# scalar"
   ]
  },
  {
   "cell_type": "code",
   "execution_count": 157,
   "id": "0064ea1b",
   "metadata": {},
   "outputs": [
    {
     "name": "stdout",
     "output_type": "stream",
     "text": [
      "109 : 1.0\n",
      "82 : 0.9997046\n",
      "14 : 0.999702\n",
      "105 : 0.99969494\n",
      "41 : 0.99968725\n",
      "56 : 0.9996852\n",
      "72 : 0.9996844\n",
      "106 : 0.99968404\n",
      "40 : 0.9996824\n",
      "104 : 0.99968207\n",
      "74 : 0.9996809\n",
      "25 : 0.9996804\n",
      "50 : 0.9996797\n",
      "78 : 0.9996795\n",
      "43 : 0.9996782\n",
      "86 : 0.99967736\n",
      "20 : 0.9996769\n",
      "7 : 0.9996765\n",
      "90 : 0.99967563\n",
      "103 : 0.9996739\n",
      "15 : 0.9996725\n",
      "76 : 0.9996723\n",
      "101 : 0.99967223\n",
      "17 : 0.9996713\n",
      "89 : 0.99967116\n",
      "26 : 0.9996711\n",
      "100 : 0.99967057\n",
      "27 : 0.99967045\n",
      "96 : 0.99966985\n",
      "0 : 0.9996688\n",
      "80 : 0.9996687\n",
      "55 : 0.9996687\n",
      "97 : 0.99966824\n",
      "45 : 0.9996678\n",
      "49 : 0.9996676\n",
      "2 : 0.9996671\n",
      "94 : 0.9996663\n",
      "68 : 0.9996663\n",
      "21 : 0.9996661\n",
      "85 : 0.999666\n",
      "47 : 0.999666\n",
      "36 : 0.9996659\n",
      "77 : 0.9996658\n",
      "52 : 0.9996658\n",
      "102 : 0.99966574\n",
      "108 : 0.9996656\n",
      "71 : 0.9996656\n",
      "92 : 0.99966544\n",
      "91 : 0.99966544\n",
      "58 : 0.99966544\n",
      "48 : 0.99966526\n",
      "93 : 0.9996651\n",
      "34 : 0.9996647\n",
      "16 : 0.9996647\n",
      "70 : 0.99966407\n",
      "8 : 0.99966407\n",
      "28 : 0.9996638\n",
      "64 : 0.9996637\n",
      "44 : 0.9996632\n",
      "35 : 0.99966305\n",
      "98 : 0.9996629\n",
      "13 : 0.9996627\n",
      "42 : 0.9996626\n",
      "18 : 0.9996626\n",
      "73 : 0.9996624\n",
      "53 : 0.9996623\n",
      "32 : 0.9996623\n",
      "22 : 0.9996623\n",
      "23 : 0.99966186\n",
      "4 : 0.99966186\n",
      "19 : 0.99966156\n",
      "88 : 0.99966115\n",
      "65 : 0.999661\n",
      "61 : 0.99966085\n",
      "1 : 0.9996606\n",
      "67 : 0.9996602\n",
      "69 : 0.9996599\n",
      "62 : 0.9996599\n",
      "99 : 0.9996597\n",
      "75 : 0.99965966\n",
      "95 : 0.99965936\n",
      "11 : 0.9996592\n",
      "29 : 0.99965876\n",
      "9 : 0.99965876\n",
      "31 : 0.9996582\n",
      "51 : 0.99965817\n",
      "87 : 0.99965715\n",
      "83 : 0.9996571\n",
      "81 : 0.9996563\n",
      "59 : 0.9996558\n",
      "84 : 0.99965465\n",
      "60 : 0.999654\n",
      "37 : 0.99965394\n",
      "12 : 0.99965394\n",
      "10 : 0.99965316\n",
      "46 : 0.9996523\n",
      "38 : 0.99965227\n",
      "54 : 0.99965215\n",
      "107 : 0.9996521\n",
      "24 : 0.9996513\n",
      "57 : 0.99964976\n",
      "63 : 0.99964917\n",
      "79 : 0.9996486\n",
      "5 : 0.9996467\n",
      "30 : 0.999639\n",
      "39 : 0.9996381\n",
      "3 : 0.99963605\n",
      "66 : 0.9996316\n",
      "33 : 0.9996313\n",
      "6 : 0.9996313\n"
     ]
    }
   ],
   "source": [
    "# Создание словаря с номерами статей и соответствующими косинусными расстояниями. \n",
    "# Словарь сортируется по возрастанию косинусного расстояния. А выводит в обратном порядке, для наглядности.\n",
    "\n",
    "rang_index = {}\n",
    "\n",
    "for i in range(len(scalar)):\n",
    "    rang_index[i] = scalar[i]\n",
    "\n",
    "list_rang_index = list(rang_index.items())\n",
    "list_rang_index.sort(key = lambda i: i[1])\n",
    "\n",
    "for index in reversed(list_rang_index):\n",
    "    print(index[0], ':', index[1])"
   ]
  },
  {
   "cell_type": "code",
   "execution_count": 158,
   "id": "215d6af5",
   "metadata": {},
   "outputs": [
    {
     "name": "stdout",
     "output_type": "stream",
     "text": [
      "Биология\n",
      "82\n",
      "Биология\n",
      "14\n",
      "Биология\n",
      "105\n",
      "Биология\n",
      "41\n",
      "Архитектура\n",
      "56\n",
      "Биология\n",
      "72\n",
      "Менеджмент\n",
      "106\n",
      "Архитектура\n",
      "40\n",
      "Информационные технологии\n",
      "104\n",
      "Архитектура\n",
      "74\n",
      "Биология\n",
      "25\n",
      "Биология\n",
      "50\n",
      "Архитектура\n",
      "78\n",
      "История\n",
      "43\n",
      "Менеджмент\n",
      "86\n",
      "Менеджмент\n",
      "20\n",
      "Биология\n",
      "7\n",
      "Информационные технологии\n",
      "90\n",
      "Биология\n",
      "103\n",
      "История\n",
      "15\n"
     ]
    }
   ],
   "source": [
    "# Выведем первые 10 подходящих статей. Я вывожу области, из которых взяты статьи, чтобы предварительно показать\n",
    "# качество работы модели. Вывод самих статей закомментирован. Чтобы посмотреть - раскомментируйте 7ю строку.\n",
    "field.append('Сам запрос')\n",
    "\n",
    "res_top20 = []\n",
    "for index in reversed(list_rang_index[-21:-1]):\n",
    "        print(field[index[0]])\n",
    "        res_top20.append(index[0])\n",
    "        print(index[0])\n",
    "#         print(collection[index[0]])\n",
    "#         print('\\n')\n",
    "    \n"
   ]
  },
  {
   "cell_type": "code",
   "execution_count": 159,
   "id": "438de1dd",
   "metadata": {},
   "outputs": [
    {
     "data": {
      "text/plain": [
       "'Сам запрос'"
      ]
     },
     "execution_count": 159,
     "metadata": {},
     "output_type": "execute_result"
    }
   ],
   "source": [
    "data.pop(len(data)-1)\n",
    "field.pop(len(field)-1)"
   ]
  },
  {
   "cell_type": "markdown",
   "id": "da396f12",
   "metadata": {},
   "source": [
    "# Подготовка датасета для оценки качества"
   ]
  },
  {
   "cell_type": "markdown",
   "id": "97f37160",
   "metadata": {},
   "source": [
    "Оценка качества модели производится следующим образом:\n",
    "1. Строится новый список документов по запросу, содержащему синонимы к главным словам\n",
    "2. Строится список из первых 20 подходящих статей \n",
    "3. Список сравнивается со списком первых 20 статей по изходному запросу\n",
    "4. Считается доля входящих статей первого списка во второй."
   ]
  },
  {
   "cell_type": "code",
   "execution_count": 160,
   "id": "6a8dde4b",
   "metadata": {},
   "outputs": [
    {
     "data": {
      "text/plain": [
       "['вид',\n",
       " 'тип',\n",
       " 'разновидность',\n",
       " 'семейство',\n",
       " 'покрытосеменной',\n",
       " 'растение',\n",
       " 'трава',\n",
       " 'цветок',\n",
       " 'и',\n",
       " 'животное',\n",
       " 'скот',\n",
       " 'зверь']"
      ]
     },
     "execution_count": 160,
     "metadata": {},
     "output_type": "execute_result"
    }
   ],
   "source": [
    "# Введем запрос и преобразуем его\n",
    "search_acr = 'Вид тип разновидность семейство покрытосеменных растений трава цветы и животных скот зверь'\n",
    "search_acr = lemmat([search_acr.lower().split()])[0].split()\n",
    "search_acr"
   ]
  },
  {
   "cell_type": "code",
   "execution_count": 161,
   "id": "49cf4d12",
   "metadata": {},
   "outputs": [],
   "source": [
    "data.append(search_acr)"
   ]
  },
  {
   "cell_type": "code",
   "execution_count": 162,
   "id": "0a043550",
   "metadata": {},
   "outputs": [],
   "source": [
    "new_word2vec_acr = Word2Vec(data, min_count = 1)"
   ]
  },
  {
   "cell_type": "code",
   "execution_count": 163,
   "id": "6244d908",
   "metadata": {},
   "outputs": [],
   "source": [
    "vec_search_acr = vec_w2v(new_word2vec_acr, search_acr)"
   ]
  },
  {
   "cell_type": "code",
   "execution_count": 164,
   "id": "6322cddf",
   "metadata": {},
   "outputs": [],
   "source": [
    "scalar_acr = []\n",
    "for i in range(len(data)):\n",
    "    scalar_acr.append(cos(vec_w2v(new_word2vec_acr, data[i]), vec_search_acr))"
   ]
  },
  {
   "cell_type": "code",
   "execution_count": 165,
   "id": "6f4a0a3e",
   "metadata": {},
   "outputs": [
    {
     "name": "stdout",
     "output_type": "stream",
     "text": [
      "109 : 1.0\n",
      "82 : 0.9997423\n",
      "25 : 0.99974144\n",
      "50 : 0.9997342\n",
      "105 : 0.99973327\n",
      "49 : 0.9997329\n",
      "73 : 0.9997303\n",
      "75 : 0.9997263\n",
      "42 : 0.99972516\n",
      "18 : 0.99972516\n",
      "107 : 0.9997237\n",
      "45 : 0.99972165\n",
      "14 : 0.99972045\n",
      "43 : 0.9997191\n",
      "26 : 0.9997177\n",
      "85 : 0.9997163\n",
      "76 : 0.99971604\n",
      "30 : 0.99971503\n",
      "22 : 0.99971485\n",
      "89 : 0.9997145\n",
      "60 : 0.9997141\n",
      "70 : 0.9997112\n",
      "65 : 0.9997112\n",
      "62 : 0.99971104\n",
      "2 : 0.999711\n",
      "17 : 0.99971086\n",
      "8 : 0.9997107\n",
      "54 : 0.99970955\n",
      "81 : 0.9997091\n",
      "59 : 0.9997089\n",
      "56 : 0.9997086\n",
      "104 : 0.99970835\n",
      "101 : 0.99970835\n",
      "91 : 0.9997079\n",
      "72 : 0.9997076\n",
      "40 : 0.9997072\n",
      "53 : 0.99970686\n",
      "24 : 0.9997068\n",
      "103 : 0.99970543\n",
      "63 : 0.99970543\n",
      "100 : 0.99970514\n",
      "36 : 0.9997051\n",
      "102 : 0.9997049\n",
      "94 : 0.99970466\n",
      "68 : 0.99970466\n",
      "35 : 0.99970466\n",
      "48 : 0.9997043\n",
      "0 : 0.9997039\n",
      "41 : 0.99970335\n",
      "7 : 0.999703\n",
      "69 : 0.99970275\n",
      "86 : 0.9997027\n",
      "20 : 0.9997017\n",
      "1 : 0.99970084\n",
      "98 : 0.9997006\n",
      "97 : 0.9997\n",
      "99 : 0.9996993\n",
      "78 : 0.99969923\n",
      "92 : 0.9996986\n",
      "38 : 0.99969846\n",
      "106 : 0.99969804\n",
      "67 : 0.9996975\n",
      "61 : 0.9996974\n",
      "5 : 0.99969715\n",
      "29 : 0.99969673\n",
      "9 : 0.99969673\n",
      "11 : 0.9996963\n",
      "96 : 0.9996962\n",
      "32 : 0.9996959\n",
      "90 : 0.99969554\n",
      "44 : 0.9996955\n",
      "39 : 0.99969524\n",
      "84 : 0.99969417\n",
      "23 : 0.999694\n",
      "4 : 0.999694\n",
      "74 : 0.9996933\n",
      "58 : 0.9996931\n",
      "19 : 0.99969214\n",
      "93 : 0.99969167\n",
      "13 : 0.999691\n",
      "47 : 0.9996908\n",
      "33 : 0.9996906\n",
      "6 : 0.9996906\n",
      "87 : 0.9996904\n",
      "51 : 0.99969006\n",
      "83 : 0.9996897\n",
      "27 : 0.99968886\n",
      "15 : 0.99968845\n",
      "10 : 0.99968755\n",
      "34 : 0.9996871\n",
      "16 : 0.9996871\n",
      "88 : 0.99968696\n",
      "46 : 0.99968654\n",
      "31 : 0.99968654\n",
      "64 : 0.99968493\n",
      "77 : 0.99968445\n",
      "52 : 0.99968445\n",
      "79 : 0.99968004\n",
      "57 : 0.9996788\n",
      "95 : 0.99967813\n",
      "108 : 0.9996771\n",
      "71 : 0.9996771\n",
      "3 : 0.99967617\n",
      "37 : 0.9996754\n",
      "12 : 0.9996754\n",
      "66 : 0.9996686\n",
      "28 : 0.99966806\n",
      "21 : 0.99966645\n",
      "80 : 0.999666\n",
      "55 : 0.999666\n"
     ]
    }
   ],
   "source": [
    "rang_index = {}\n",
    "\n",
    "for i in range(len(scalar_acr)):\n",
    "    rang_index[i] = scalar_acr[i]\n",
    "\n",
    "list_rang_index = list(rang_index.items())\n",
    "list_rang_index.sort(key = lambda i: i[1])\n",
    "\n",
    "for index in reversed(list_rang_index):\n",
    "    print(index[0], ':', index[1])"
   ]
  },
  {
   "cell_type": "code",
   "execution_count": 166,
   "id": "61a604e0",
   "metadata": {},
   "outputs": [
    {
     "data": {
      "text/plain": [
       "[82,\n",
       " 25,\n",
       " 50,\n",
       " 105,\n",
       " 49,\n",
       " 73,\n",
       " 75,\n",
       " 42,\n",
       " 18,\n",
       " 107,\n",
       " 45,\n",
       " 14,\n",
       " 43,\n",
       " 26,\n",
       " 85,\n",
       " 76,\n",
       " 30,\n",
       " 22,\n",
       " 89,\n",
       " 60]"
      ]
     },
     "execution_count": 166,
     "metadata": {},
     "output_type": "execute_result"
    }
   ],
   "source": [
    "field.append('Сам запрос')\n",
    "res_acr = []\n",
    "\n",
    "for index in reversed(list_rang_index[-21:-1]):\n",
    "        res_acr.append(index[0])\n",
    "res_acr"
   ]
  },
  {
   "cell_type": "code",
   "execution_count": 167,
   "id": "a7428b2d",
   "metadata": {},
   "outputs": [
    {
     "data": {
      "text/plain": [
       "'Сам запрос'"
      ]
     },
     "execution_count": 167,
     "metadata": {},
     "output_type": "execute_result"
    }
   ],
   "source": [
    "data.pop(len(data)-1)\n",
    "field.pop(len(field)-1)"
   ]
  },
  {
   "cell_type": "markdown",
   "id": "2bd2528c",
   "metadata": {},
   "source": [
    "# Оценка качества модели"
   ]
  },
  {
   "cell_type": "code",
   "execution_count": 168,
   "id": "e73f784f",
   "metadata": {},
   "outputs": [
    {
     "data": {
      "text/plain": [
       "0.3"
      ]
     },
     "execution_count": 168,
     "metadata": {},
     "output_type": "execute_result"
    }
   ],
   "source": [
    "k = sum([1.0 for i in res_top20 if i in res_acr])\n",
    "k/20"
   ]
  },
  {
   "cell_type": "markdown",
   "id": "0e2515f0",
   "metadata": {},
   "source": [
    "Вывод: Из 20-ти предположительно верных статьи только 6 выявила модель. Что, конечно, не очень хорошо."
   ]
  },
  {
   "cell_type": "code",
   "execution_count": null,
   "id": "967d46a3",
   "metadata": {},
   "outputs": [],
   "source": []
  }
 ],
 "metadata": {
  "kernelspec": {
   "display_name": "Python 3 (ipykernel)",
   "language": "python",
   "name": "python3"
  },
  "language_info": {
   "codemirror_mode": {
    "name": "ipython",
    "version": 3
   },
   "file_extension": ".py",
   "mimetype": "text/x-python",
   "name": "python",
   "nbconvert_exporter": "python",
   "pygments_lexer": "ipython3",
   "version": "3.9.7"
  }
 },
 "nbformat": 4,
 "nbformat_minor": 5
}
